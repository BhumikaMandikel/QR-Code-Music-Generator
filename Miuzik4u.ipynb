{
  "cells": [
    {
      "cell_type": "code",
      "source": [
        "!pip install qrcode"
      ],
      "metadata": {
        "colab": {
          "base_uri": "https://localhost:8080/"
        },
        "id": "HZg3NzYLmVOW",
        "outputId": "d94f88c9-275d-4499-e9c3-0626ebb696ef"
      },
      "execution_count": 1,
      "outputs": [
        {
          "output_type": "stream",
          "name": "stdout",
          "text": [
            "Collecting qrcode\n",
            "  Downloading qrcode-8.0-py3-none-any.whl.metadata (17 kB)\n",
            "Downloading qrcode-8.0-py3-none-any.whl (45 kB)\n",
            "\u001b[?25l   \u001b[90m━━━━━━━━━━━━━━━━━━━━━━━━━━━━━━━━━━━━━━━━\u001b[0m \u001b[32m0.0/45.7 kB\u001b[0m \u001b[31m?\u001b[0m eta \u001b[36m-:--:--\u001b[0m\r\u001b[2K   \u001b[90m━━━━━━━━━━━━━━━━━━━━━━━━━━━━━━━━━━━━━━━━\u001b[0m \u001b[32m45.7/45.7 kB\u001b[0m \u001b[31m3.5 MB/s\u001b[0m eta \u001b[36m0:00:00\u001b[0m\n",
            "\u001b[?25hInstalling collected packages: qrcode\n",
            "Successfully installed qrcode-8.0\n"
          ]
        }
      ]
    },
    {
      "cell_type": "code",
      "source": [
        "import ipywidgets as widgets\n",
        "from IPython.display import display, Image\n",
        "import qrcode\n",
        "import random\n",
        "from io import BytesIO\n",
        "\n",
        "# Display the header\n",
        "header = widgets.HTML(value=\"<h1 style='font-family: Arial Black; color: #856ff8;'>Miuzik4U</h1>\")\n",
        "display(header)\n",
        "\n",
        "# Language and Genre options\n",
        "languages = [\"TAMIL\", \"TELUGU\", \"KANNADA\", \"HINDI\"]\n",
        "genres = [\"MELODY\", \"EMOTIONAL\", \"ENERGETIC\", \"CLASSICAL\"]\n",
        "\n",
        "# Functions to handle lists and SongFile\n",
        "def Tamil_list(lines):\n",
        "    Tamil_list = [line.split()[0] for line in lines if line.split()[2] == \"TAMIL\"]\n",
        "    return Tamil_list\n",
        "\n",
        "def Hindi_list(lines):\n",
        "    Hindi_list = [line.split()[0] for line in lines if line.split()[2] == \"HINDI\"]\n",
        "    return Hindi_list\n",
        "\n",
        "def Telugu_list(lines):\n",
        "    Telugu_list = [line.split()[0] for line in lines if line.split()[2] == \"TELUGU\"]\n",
        "    return Telugu_list\n",
        "\n",
        "def Kannada_list(lines):\n",
        "    Kannada_list = [line.split()[0] for line in lines if line.split()[2] == \"KANNADA\"]\n",
        "    return Kannada_list\n",
        "\n",
        "def SongFile(language, genre):\n",
        "    if genre == \"GENRE\":\n",
        "        return ''\n",
        "    file_map = {\n",
        "        \"MELODY\": \"/content/MELODY.txt\",\n",
        "        \"ENERGETIC\": \"/content/ENERGETIC.txt\",\n",
        "        \"EMOTIONAL\": \"/content/EMOTIONAL.txt\",\n",
        "        \"CLASSICAL\": \"/content/CLASSICAL.txt\"\n",
        "    }\n",
        "    file = file_map.get(genre, '')\n",
        "\n",
        "    with open(file, \"r\") as f:\n",
        "        lines = f.readlines()\n",
        "\n",
        "    if language == \"TAMIL\":\n",
        "        langlist = Tamil_list(lines)\n",
        "    elif language == \"HINDI\":\n",
        "        langlist = Hindi_list(lines)\n",
        "    elif language == \"TELUGU\":\n",
        "        langlist = Telugu_list(lines)\n",
        "    elif language == \"KANNADA\":\n",
        "        langlist = Kannada_list(lines)\n",
        "\n",
        "    a = random.randint(0, len(langlist) - 1)\n",
        "    return langlist[a]\n",
        "\n",
        "def QrCode(Url):\n",
        "    # Create a QR code\n",
        "    qr = qrcode.make(Url)\n",
        "    # Convert the QR code to an in-memory image to display in the notebook\n",
        "    img_byte_arr = BytesIO()\n",
        "    qr.save(img_byte_arr)\n",
        "    img_byte_arr.seek(0)\n",
        "    return Image(data=img_byte_arr.read(), format='png')\n",
        "\n",
        "# Function to handle song addition (stub for Colab environment)\n",
        "def AddSongs(song):\n",
        "    with open(\"ADDSONGS.txt\", \"a\") as f:\n",
        "        f.write(song + '\\n')\n",
        "\n",
        "# Function to clear selection\n",
        "def clear_cb(b):\n",
        "    language_selector.value = languages[0]\n",
        "    genre_selector.value = genres[0]\n",
        "\n",
        "# Function to handle submission\n",
        "def submit_button_clicked(b):\n",
        "    language = language_selector.value\n",
        "    genre = genre_selector.value\n",
        "    if genre != 'GENRE':\n",
        "        url = SongFile(language, genre)\n",
        "        if url:\n",
        "            display(QrCode(url))  # Display the QR code in the notebook\n",
        "\n",
        "# Language and Genre dropdowns\n",
        "language_selector = widgets.Dropdown(\n",
        "    options=languages,\n",
        "    value=languages[0],  # Default to first language\n",
        "    description='Language:',\n",
        "    disabled=False\n",
        ")\n",
        "\n",
        "genre_selector = widgets.Dropdown(\n",
        "    options=genres,\n",
        "    value=genres[0],  # Default to first genre\n",
        "    description='Genre:',\n",
        "    disabled=False\n",
        ")\n",
        "\n",
        "# Clear button\n",
        "clear_button = widgets.Button(description=\"Clear\")\n",
        "clear_button.on_click(clear_cb)\n",
        "\n",
        "# Submit button\n",
        "submit_button = widgets.Button(description=\"Submit\")\n",
        "submit_button.on_click(submit_button_clicked)\n",
        "\n",
        "# Display widgets\n",
        "display(language_selector)\n",
        "display(genre_selector)\n",
        "display(clear_button)\n",
        "display(submit_button)\n"
      ],
      "metadata": {
        "colab": {
          "base_uri": "https://localhost:8080/",
          "height": 604,
          "referenced_widgets": [
            "07b608ee1d9a4d08be2cba84f0204691",
            "153f955f26084e8392b104bd94166b99",
            "eb65cb80ee94460da4f8176184149679",
            "a0f9f4a46be640358fc1824c6ef1e1fe",
            "725596546a744c7a87e0ba7ee69cc8a3",
            "a2b0efcc8bea43d2bad0befbccc2fbce",
            "c0b3cdc34c964f9eb600ad0ac37561d5",
            "157413536cd64630ad4d41acb5698e95",
            "9f00c5296ef049c09276759a1a1f51a9",
            "a5ef5c0faaa5473bb7df248e9ae94d5d",
            "20b5ec9c15ae44e297146dd30047bcb8",
            "e3fdd973838c4c78a7ef33ceefdf731c",
            "424b74eceb0c4dd299e3cd54922267d8",
            "36c6771e2024488e8eaed87fd3a18386",
            "f50192a9044242b9a0bb97b975d6923a"
          ]
        },
        "id": "X30A80QPmSkZ",
        "outputId": "c26056df-5224-441c-e449-eafae80d73c5"
      },
      "execution_count": 7,
      "outputs": [
        {
          "output_type": "display_data",
          "data": {
            "text/plain": [
              "HTML(value=\"<h1 style='font-family: Arial Black; color: #856ff8;'>Miuzik4U</h1>\")"
            ],
            "application/vnd.jupyter.widget-view+json": {
              "version_major": 2,
              "version_minor": 0,
              "model_id": "07b608ee1d9a4d08be2cba84f0204691"
            }
          },
          "metadata": {}
        },
        {
          "output_type": "display_data",
          "data": {
            "text/plain": [
              "Dropdown(description='Language:', options=('TAMIL', 'TELUGU', 'KANNADA', 'HINDI'), value='TAMIL')"
            ],
            "application/vnd.jupyter.widget-view+json": {
              "version_major": 2,
              "version_minor": 0,
              "model_id": "a0f9f4a46be640358fc1824c6ef1e1fe"
            }
          },
          "metadata": {}
        },
        {
          "output_type": "display_data",
          "data": {
            "text/plain": [
              "Dropdown(description='Genre:', options=('MELODY', 'EMOTIONAL', 'ENERGETIC', 'CLASSICAL'), value='MELODY')"
            ],
            "application/vnd.jupyter.widget-view+json": {
              "version_major": 2,
              "version_minor": 0,
              "model_id": "c0b3cdc34c964f9eb600ad0ac37561d5"
            }
          },
          "metadata": {}
        },
        {
          "output_type": "display_data",
          "data": {
            "text/plain": [
              "Button(description='Clear', style=ButtonStyle())"
            ],
            "application/vnd.jupyter.widget-view+json": {
              "version_major": 2,
              "version_minor": 0,
              "model_id": "a5ef5c0faaa5473bb7df248e9ae94d5d"
            }
          },
          "metadata": {}
        },
        {
          "output_type": "display_data",
          "data": {
            "text/plain": [
              "Button(description='Submit', style=ButtonStyle())"
            ],
            "application/vnd.jupyter.widget-view+json": {
              "version_major": 2,
              "version_minor": 0,
              "model_id": "424b74eceb0c4dd299e3cd54922267d8"
            }
          },
          "metadata": {}
        },
        {
          "output_type": "display_data",
          "data": {
            "image/png": "[encoded data removed]",
            "text/plain": [
              "<IPython.core.display.Image object>"
            ]
          },
          "metadata": {}
        }
      ]
    }
  ],
  "metadata": {
    "accelerator": "GPU",
    "colab": {
      "gpuType": "T4",
      "provenance": []
    },
    "kernelspec": {
      "display_name": "Python 3",
      "name": "python3"
    },
    "language_info": {
      "name": "python"
    },
    "widgets": {
      "application/vnd.jupyter.widget-state+json": {
        "07b608ee1d9a4d08be2cba84f0204691": {
          "model_module": "@jupyter-widgets/controls",
          "model_name": "HTMLModel",
          "model_module_version": "1.5.0",
          "state": {
            "_dom_classes": [],
            "_model_module": "@jupyter-widgets/controls",
            "_model_module_version": "1.5.0",
            "_model_name": "HTMLModel",
            "_view_count": null,
            "_view_module": "@jupyter-widgets/controls",
            "_view_module_version": "1.5.0",
            "_view_name": "HTMLView",
            "description": "",
            "description_tooltip": null,
            "layout": "IPY_MODEL_153f955f26084e8392b104bd94166b99",
            "placeholder": "​",
            "style": "IPY_MODEL_eb65cb80ee94460da4f8176184149679",
            "value": "<h1 style='font-family: Arial Black; color: #856ff8;'>Miuzik4U</h1>"
          }
        },
        "153f955f26084e8392b104bd94166b99": {
          "model_module": "@jupyter-widgets/base",
          "model_name": "LayoutModel",
          "model_module_version": "1.2.0",
          "state": {
            "_model_module": "@jupyter-widgets/base",
            "_model_module_version": "1.2.0",
            "_model_name": "LayoutModel",
            "_view_count": null,
            "_view_module": "@jupyter-widgets/base",
            "_view_module_version": "1.2.0",
            "_view_name": "LayoutView",
            "align_content": null,
            "align_items": null,
            "align_self": null,
            "border": null,
            "bottom": null,
            "display": null,
            "flex": null,
            "flex_flow": null,
            "grid_area": null,
            "grid_auto_columns": null,
            "grid_auto_flow": null,
            "grid_auto_rows": null,
            "grid_column": null,
            "grid_gap": null,
            "grid_row": null,
            "grid_template_areas": null,
            "grid_template_columns": null,
            "grid_template_rows": null,
            "height": null,
            "justify_content": null,
            "justify_items": null,
            "left": null,
            "margin": null,
            "max_height": null,
            "max_width": null,
            "min_height": null,
            "min_width": null,
            "object_fit": null,
            "object_position": null,
            "order": null,
            "overflow": null,
            "overflow_x": null,
            "overflow_y": null,
            "padding": null,
            "right": null,
            "top": null,
            "visibility": null,
            "width": null
          }
        },
        "eb65cb80ee94460da4f8176184149679": {
          "model_module": "@jupyter-widgets/controls",
          "model_name": "DescriptionStyleModel",
          "model_module_version": "1.5.0",
          "state": {
            "_model_module": "@jupyter-widgets/controls",
            "_model_module_version": "1.5.0",
            "_model_name": "DescriptionStyleModel",
            "_view_count": null,
            "_view_module": "@jupyter-widgets/base",
            "_view_module_version": "1.2.0",
            "_view_name": "StyleView",
            "description_width": ""
          }
        },
        "a0f9f4a46be640358fc1824c6ef1e1fe": {
          "model_module": "@jupyter-widgets/controls",
          "model_name": "DropdownModel",
          "model_module_version": "1.5.0",
          "state": {
            "_dom_classes": [],
            "_model_module": "@jupyter-widgets/controls",
            "_model_module_version": "1.5.0",
            "_model_name": "DropdownModel",
            "_options_labels": [
              "TAMIL",
              "TELUGU",
              "KANNADA",
              "HINDI"
            ],
            "_view_count": null,
            "_view_module": "@jupyter-widgets/controls",
            "_view_module_version": "1.5.0",
            "_view_name": "DropdownView",
            "description": "Language:",
            "description_tooltip": null,
            "disabled": false,
            "index": 1,
            "layout": "IPY_MODEL_725596546a744c7a87e0ba7ee69cc8a3",
            "style": "IPY_MODEL_a2b0efcc8bea43d2bad0befbccc2fbce"
          }
        },
        "725596546a744c7a87e0ba7ee69cc8a3": {
          "model_module": "@jupyter-widgets/base",
          "model_name": "LayoutModel",
          "model_module_version": "1.2.0",
          "state": {
            "_model_module": "@jupyter-widgets/base",
            "_model_module_version": "1.2.0",
            "_model_name": "LayoutModel",
            "_view_count": null,
            "_view_module": "@jupyter-widgets/base",
            "_view_module_version": "1.2.0",
            "_view_name": "LayoutView",
            "align_content": null,
            "align_items": null,
            "align_self": null,
            "border": null,
            "bottom": null,
            "display": null,
            "flex": null,
            "flex_flow": null,
            "grid_area": null,
            "grid_auto_columns": null,
            "grid_auto_flow": null,
            "grid_auto_rows": null,
            "grid_column": null,
            "grid_gap": null,
            "grid_row": null,
            "grid_template_areas": null,
            "grid_template_columns": null,
            "grid_template_rows": null,
            "height": null,
            "justify_content": null,
            "justify_items": null,
            "left": null,
            "margin": null,
            "max_height": null,
            "max_width": null,
            "min_height": null,
            "min_width": null,
            "object_fit": null,
            "object_position": null,
            "order": null,
            "overflow": null,
            "overflow_x": null,
            "overflow_y": null,
            "padding": null,
            "right": null,
            "top": null,
            "visibility": null,
            "width": null
          }
        },
        "a2b0efcc8bea43d2bad0befbccc2fbce": {
          "model_module": "@jupyter-widgets/controls",
          "model_name": "DescriptionStyleModel",
          "model_module_version": "1.5.0",
          "state": {
            "_model_module": "@jupyter-widgets/controls",
            "_model_module_version": "1.5.0",
            "_model_name": "DescriptionStyleModel",
            "_view_count": null,
            "_view_module": "@jupyter-widgets/base",
            "_view_module_version": "1.2.0",
            "_view_name": "StyleView",
            "description_width": ""
          }
        },
        "c0b3cdc34c964f9eb600ad0ac37561d5": {
          "model_module": "@jupyter-widgets/controls",
          "model_name": "DropdownModel",
          "model_module_version": "1.5.0",
          "state": {
            "_dom_classes": [],
            "_model_module": "@jupyter-widgets/controls",
            "_model_module_version": "1.5.0",
            "_model_name": "DropdownModel",
            "_options_labels": [
              "MELODY",
              "EMOTIONAL",
              "ENERGETIC",
              "CLASSICAL"
            ],
            "_view_count": null,
            "_view_module": "@jupyter-widgets/controls",
            "_view_module_version": "1.5.0",
            "_view_name": "DropdownView",
            "description": "Genre:",
            "description_tooltip": null,
            "disabled": false,
            "index": 2,
            "layout": "IPY_MODEL_157413536cd64630ad4d41acb5698e95",
            "style": "IPY_MODEL_9f00c5296ef049c09276759a1a1f51a9"
          }
        },
        "157413536cd64630ad4d41acb5698e95": {
          "model_module": "@jupyter-widgets/base",
          "model_name": "LayoutModel",
          "model_module_version": "1.2.0",
          "state": {
            "_model_module": "@jupyter-widgets/base",
            "_model_module_version": "1.2.0",
            "_model_name": "LayoutModel",
            "_view_count": null,
            "_view_module": "@jupyter-widgets/base",
            "_view_module_version": "1.2.0",
            "_view_name": "LayoutView",
            "align_content": null,
            "align_items": null,
            "align_self": null,
            "border": null,
            "bottom": null,
            "display": null,
            "flex": null,
            "flex_flow": null,
            "grid_area": null,
            "grid_auto_columns": null,
            "grid_auto_flow": null,
            "grid_auto_rows": null,
            "grid_column": null,
            "grid_gap": null,
            "grid_row": null,
            "grid_template_areas": null,
            "grid_template_columns": null,
            "grid_template_rows": null,
            "height": null,
            "justify_content": null,
            "justify_items": null,
            "left": null,
            "margin": null,
            "max_height": null,
            "max_width": null,
            "min_height": null,
            "min_width": null,
            "object_fit": null,
            "object_position": null,
            "order": null,
            "overflow": null,
            "overflow_x": null,
            "overflow_y": null,
            "padding": null,
            "right": null,
            "top": null,
            "visibility": null,
            "width": null
          }
        },
        "9f00c5296ef049c09276759a1a1f51a9": {
          "model_module": "@jupyter-widgets/controls",
          "model_name": "DescriptionStyleModel",
          "model_module_version": "1.5.0",
          "state": {
            "_model_module": "@jupyter-widgets/controls",
            "_model_module_version": "1.5.0",
            "_model_name": "DescriptionStyleModel",
            "_view_count": null,
            "_view_module": "@jupyter-widgets/base",
            "_view_module_version": "1.2.0",
            "_view_name": "StyleView",
            "description_width": ""
          }
        },
        "a5ef5c0faaa5473bb7df248e9ae94d5d": {
          "model_module": "@jupyter-widgets/controls",
          "model_name": "ButtonModel",
          "model_module_version": "1.5.0",
          "state": {
            "_dom_classes": [],
            "_model_module": "@jupyter-widgets/controls",
            "_model_module_version": "1.5.0",
            "_model_name": "ButtonModel",
            "_view_count": null,
            "_view_module": "@jupyter-widgets/controls",
            "_view_module_version": "1.5.0",
            "_view_name": "ButtonView",
            "button_style": "",
            "description": "Clear",
            "disabled": false,
            "icon": "",
            "layout": "IPY_MODEL_20b5ec9c15ae44e297146dd30047bcb8",
            "style": "IPY_MODEL_e3fdd973838c4c78a7ef33ceefdf731c",
            "tooltip": ""
          }
        },
        "20b5ec9c15ae44e297146dd30047bcb8": {
          "model_module": "@jupyter-widgets/base",
          "model_name": "LayoutModel",
          "model_module_version": "1.2.0",
          "state": {
            "_model_module": "@jupyter-widgets/base",
            "_model_module_version": "1.2.0",
            "_model_name": "LayoutModel",
            "_view_count": null,
            "_view_module": "@jupyter-widgets/base",
            "_view_module_version": "1.2.0",
            "_view_name": "LayoutView",
            "align_content": null,
            "align_items": null,
            "align_self": null,
            "border": null,
            "bottom": null,
            "display": null,
            "flex": null,
            "flex_flow": null,
            "grid_area": null,
            "grid_auto_columns": null,
            "grid_auto_flow": null,
            "grid_auto_rows": null,
            "grid_column": null,
            "grid_gap": null,
            "grid_row": null,
            "grid_template_areas": null,
            "grid_template_columns": null,
            "grid_template_rows": null,
            "height": null,
            "justify_content": null,
            "justify_items": null,
            "left": null,
            "margin": null,
            "max_height": null,
            "max_width": null,
            "min_height": null,
            "min_width": null,
            "object_fit": null,
            "object_position": null,
            "order": null,
            "overflow": null,
            "overflow_x": null,
            "overflow_y": null,
            "padding": null,
            "right": null,
            "top": null,
            "visibility": null,
            "width": null
          }
        },
        "e3fdd973838c4c78a7ef33ceefdf731c": {
          "model_module": "@jupyter-widgets/controls",
          "model_name": "ButtonStyleModel",
          "model_module_version": "1.5.0",
          "state": {
            "_model_module": "@jupyter-widgets/controls",
            "_model_module_version": "1.5.0",
            "_model_name": "ButtonStyleModel",
            "_view_count": null,
            "_view_module": "@jupyter-widgets/base",
            "_view_module_version": "1.2.0",
            "_view_name": "StyleView",
            "button_color": null,
            "font_weight": ""
          }
        },
        "424b74eceb0c4dd299e3cd54922267d8": {
          "model_module": "@jupyter-widgets/controls",
          "model_name": "ButtonModel",
          "model_module_version": "1.5.0",
          "state": {
            "_dom_classes": [],
            "_model_module": "@jupyter-widgets/controls",
            "_model_module_version": "1.5.0",
            "_model_name": "ButtonModel",
            "_view_count": null,
            "_view_module": "@jupyter-widgets/controls",
            "_view_module_version": "1.5.0",
            "_view_name": "ButtonView",
            "button_style": "",
            "description": "Submit",
            "disabled": false,
            "icon": "",
            "layout": "IPY_MODEL_36c6771e2024488e8eaed87fd3a18386",
            "style": "IPY_MODEL_f50192a9044242b9a0bb97b975d6923a",
            "tooltip": ""
          }
        },
        "36c6771e2024488e8eaed87fd3a18386": {
          "model_module": "@jupyter-widgets/base",
          "model_name": "LayoutModel",
          "model_module_version": "1.2.0",
          "state": {
            "_model_module": "@jupyter-widgets/base",
            "_model_module_version": "1.2.0",
            "_model_name": "LayoutModel",
            "_view_count": null,
            "_view_module": "@jupyter-widgets/base",
            "_view_module_version": "1.2.0",
            "_view_name": "LayoutView",
            "align_content": null,
            "align_items": null,
            "align_self": null,
            "border": null,
            "bottom": null,
            "display": null,
            "flex": null,
            "flex_flow": null,
            "grid_area": null,
            "grid_auto_columns": null,
            "grid_auto_flow": null,
            "grid_auto_rows": null,
            "grid_column": null,
            "grid_gap": null,
            "grid_row": null,
            "grid_template_areas": null,
            "grid_template_columns": null,
            "grid_template_rows": null,
            "height": null,
            "justify_content": null,
            "justify_items": null,
            "left": null,
            "margin": null,
            "max_height": null,
            "max_width": null,
            "min_height": null,
            "min_width": null,
            "object_fit": null,
            "object_position": null,
            "order": null,
            "overflow": null,
            "overflow_x": null,
            "overflow_y": null,
            "padding": null,
            "right": null,
            "top": null,
            "visibility": null,
            "width": null
          }
        },
        "f50192a9044242b9a0bb97b975d6923a": {
          "model_module": "@jupyter-widgets/controls",
          "model_name": "ButtonStyleModel",
          "model_module_version": "1.5.0",
          "state": {
            "_model_module": "@jupyter-widgets/controls",
            "_model_module_version": "1.5.0",
            "_model_name": "ButtonStyleModel",
            "_view_count": null,
            "_view_module": "@jupyter-widgets/base",
            "_view_module_version": "1.2.0",
            "_view_name": "StyleView",
            "button_color": null,
            "font_weight": ""
          }
        }
      }
    }
  },
  "nbformat": 4,
  "nbformat_minor": 0
}